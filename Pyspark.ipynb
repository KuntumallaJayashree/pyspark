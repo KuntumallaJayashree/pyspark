{
  "nbformat": 4,
  "nbformat_minor": 0,
  "metadata": {
    "colab": {
      "provenance": [],
      "authorship_tag": "ABX9TyOiWxTijMeaxF9I6H77iMNE",
      "include_colab_link": true
    },
    "kernelspec": {
      "name": "python3",
      "display_name": "Python 3"
    },
    "language_info": {
      "name": "python"
    }
  },
  "cells": [
    {
      "cell_type": "markdown",
      "metadata": {
        "id": "view-in-github",
        "colab_type": "text"
      },
      "source": [
        "<a href=\"https://colab.research.google.com/github/KuntumallaJayashree/pyspark/blob/main/Pyspark.ipynb\" target=\"_parent\"><img src=\"https://colab.research.google.com/assets/colab-badge.svg\" alt=\"Open In Colab\"/></a>"
      ]
    },
    {
      "cell_type": "code",
      "execution_count": 2,
      "metadata": {
        "colab": {
          "base_uri": "https://localhost:8080/"
        },
        "id": "nakCAUrK4eJ0",
        "outputId": "e4921fe1-dbef-4a3e-b92d-41d798b1e2d0"
      },
      "outputs": [
        {
          "output_type": "stream",
          "name": "stdout",
          "text": [
            "Collecting pyspark\n",
            "  Downloading pyspark-3.5.0.tar.gz (316.9 MB)\n",
            "\u001b[2K     \u001b[90m━━━━━━━━━━━━━━━━━━━━━━━━━━━━━━━━━━━━━━━━\u001b[0m \u001b[32m316.9/316.9 MB\u001b[0m \u001b[31m4.0 MB/s\u001b[0m eta \u001b[36m0:00:00\u001b[0m\n",
            "\u001b[?25h  Preparing metadata (setup.py) ... \u001b[?25l\u001b[?25hdone\n",
            "Requirement already satisfied: py4j==0.10.9.7 in /usr/local/lib/python3.10/dist-packages (from pyspark) (0.10.9.7)\n",
            "Building wheels for collected packages: pyspark\n",
            "  Building wheel for pyspark (setup.py) ... \u001b[?25l\u001b[?25hdone\n",
            "  Created wheel for pyspark: filename=pyspark-3.5.0-py2.py3-none-any.whl size=317425345 sha256=0d3728c903b7d09fd11ec0bee2baf093c2862297a920f65d580e4959268f3ff6\n",
            "  Stored in directory: /root/.cache/pip/wheels/41/4e/10/c2cf2467f71c678cfc8a6b9ac9241e5e44a01940da8fbb17fc\n",
            "Successfully built pyspark\n",
            "Installing collected packages: pyspark\n",
            "Successfully installed pyspark-3.5.0\n"
          ]
        }
      ],
      "source": [
        "!pip install pyspark"
      ]
    },
    {
      "cell_type": "code",
      "source": [
        "import pyspark"
      ],
      "metadata": {
        "id": "KQNmQbYj4hKo"
      },
      "execution_count": 3,
      "outputs": []
    },
    {
      "cell_type": "markdown",
      "source": [
        "whenever we are starting a pyspark we need to start a spark session"
      ],
      "metadata": {
        "id": "qYIKJ16D5Xe-"
      }
    },
    {
      "cell_type": "code",
      "source": [
        "from pyspark.sql import SparkSession"
      ],
      "metadata": {
        "id": "cQlKz2Qb4r5X"
      },
      "execution_count": 4,
      "outputs": []
    },
    {
      "cell_type": "code",
      "source": [
        "spark = SparkSession.builder.appName(\"Practise\").getOrCreate()"
      ],
      "metadata": {
        "id": "g8rVsus242tg"
      },
      "execution_count": 5,
      "outputs": []
    },
    {
      "cell_type": "code",
      "source": [
        "spark"
      ],
      "metadata": {
        "colab": {
          "base_uri": "https://localhost:8080/",
          "height": 222
        },
        "id": "hM2dhg3o5V1w",
        "outputId": "59fcd2ba-8e70-4d87-adff-f7ab479ee9f1"
      },
      "execution_count": 6,
      "outputs": [
        {
          "output_type": "execute_result",
          "data": {
            "text/plain": [
              "<pyspark.sql.session.SparkSession at 0x7e6772b9e2c0>"
            ],
            "text/html": [
              "\n",
              "            <div>\n",
              "                <p><b>SparkSession - in-memory</b></p>\n",
              "                \n",
              "        <div>\n",
              "            <p><b>SparkContext</b></p>\n",
              "\n",
              "            <p><a href=\"http://af01fb63ad53:4040\">Spark UI</a></p>\n",
              "\n",
              "            <dl>\n",
              "              <dt>Version</dt>\n",
              "                <dd><code>v3.5.0</code></dd>\n",
              "              <dt>Master</dt>\n",
              "                <dd><code>local[*]</code></dd>\n",
              "              <dt>AppName</dt>\n",
              "                <dd><code>Practise</code></dd>\n",
              "            </dl>\n",
              "        </div>\n",
              "        \n",
              "            </div>\n",
              "        "
            ]
          },
          "metadata": {},
          "execution_count": 6
        }
      ]
    },
    {
      "cell_type": "code",
      "source": [
        "df = spark.read.option(\"header\",\"true\").csv(\"pyspark.csv\",inferSchema=True)"
      ],
      "metadata": {
        "id": "4EL6R1rn48IF"
      },
      "execution_count": 7,
      "outputs": []
    },
    {
      "cell_type": "code",
      "source": [
        "df.show()"
      ],
      "metadata": {
        "colab": {
          "base_uri": "https://localhost:8080/"
        },
        "id": "PHIjPcY05VLu",
        "outputId": "539f5261-29ac-4ee9-dbf7-af714ee2a675"
      },
      "execution_count": 8,
      "outputs": [
        {
          "output_type": "stream",
          "name": "stdout",
          "text": [
            "+---------+----+----+------+\n",
            "|     Name| Age| Exp|salary|\n",
            "+---------+----+----+------+\n",
            "|    Krish|  31|  10|   100|\n",
            "|Sudhanshu|  30|   5|   120|\n",
            "|    Sunny|  29|   9|    70|\n",
            "|     jaya|NULL|NULL|    50|\n",
            "|     NULL|  20|  10|    38|\n",
            "|     jaga|  36|NULL|  NULL|\n",
            "+---------+----+----+------+\n",
            "\n"
          ]
        }
      ]
    },
    {
      "cell_type": "code",
      "source": [
        "df.head(5)"
      ],
      "metadata": {
        "colab": {
          "base_uri": "https://localhost:8080/"
        },
        "id": "62rG9puo5hVZ",
        "outputId": "e3c726c4-bdd8-4c3c-e296-9c9030e00267"
      },
      "execution_count": 9,
      "outputs": [
        {
          "output_type": "execute_result",
          "data": {
            "text/plain": [
              "[Row(Name='Krish', Age=31, Exp=10, salary=100),\n",
              " Row(Name='Sudhanshu', Age=30, Exp=5, salary=120),\n",
              " Row(Name='Sunny', Age=29, Exp=9, salary=70),\n",
              " Row(Name='jaya', Age=None, Exp=None, salary=50),\n",
              " Row(Name=None, Age=20, Exp=10, salary=38)]"
            ]
          },
          "metadata": {},
          "execution_count": 9
        }
      ]
    },
    {
      "cell_type": "code",
      "source": [
        "#df.info()-in pandas\n",
        "df.printSchema()"
      ],
      "metadata": {
        "colab": {
          "base_uri": "https://localhost:8080/"
        },
        "id": "9LmZ595M5iqh",
        "outputId": "315d38ea-5a3c-424b-eed9-296b67453837"
      },
      "execution_count": 10,
      "outputs": [
        {
          "output_type": "stream",
          "name": "stdout",
          "text": [
            "root\n",
            " |-- Name: string (nullable = true)\n",
            " |-- Age: integer (nullable = true)\n",
            " |-- Exp: integer (nullable = true)\n",
            " |-- salary: integer (nullable = true)\n",
            "\n"
          ]
        }
      ]
    },
    {
      "cell_type": "code",
      "source": [
        "type(df)"
      ],
      "metadata": {
        "colab": {
          "base_uri": "https://localhost:8080/",
          "height": 187
        },
        "id": "mIgYmE055kzT",
        "outputId": "963d15ed-571e-4a6c-f40b-11bf1bddad72"
      },
      "execution_count": 11,
      "outputs": [
        {
          "output_type": "execute_result",
          "data": {
            "text/plain": [
              "pyspark.sql.dataframe.DataFrame"
            ],
            "text/html": [
              "<div style=\"max-width:800px; border: 1px solid var(--colab-border-color);\"><style>\n",
              "      pre.function-repr-contents {\n",
              "        overflow-x: auto;\n",
              "        padding: 8px 12px;\n",
              "        max-height: 500px;\n",
              "      }\n",
              "\n",
              "      pre.function-repr-contents.function-repr-contents-collapsed {\n",
              "        cursor: pointer;\n",
              "        max-height: 100px;\n",
              "      }\n",
              "    </style>\n",
              "    <pre style=\"white-space: initial; background:\n",
              "         var(--colab-secondary-surface-color); padding: 8px 12px;\n",
              "         border-bottom: 1px solid var(--colab-border-color);\"><b>pyspark.sql.dataframe.DataFrame</b><br/>def __init__(jdf: JavaObject, sql_ctx: Union[&#x27;SQLContext&#x27;, &#x27;SparkSession&#x27;])</pre><pre class=\"function-repr-contents function-repr-contents-collapsed\" style=\"\"><a class=\"filepath\" style=\"display:none\" href=\"#\">/usr/local/lib/python3.10/dist-packages/pyspark/sql/dataframe.py</a>A distributed collection of data grouped into named columns.\n",
              "\n",
              ".. versionadded:: 1.3.0\n",
              "\n",
              ".. versionchanged:: 3.4.0\n",
              "    Supports Spark Connect.\n",
              "\n",
              "Examples\n",
              "--------\n",
              "A :class:`DataFrame` is equivalent to a relational table in Spark SQL,\n",
              "and can be created using various functions in :class:`SparkSession`:\n",
              "\n",
              "&gt;&gt;&gt; people = spark.createDataFrame([\n",
              "...     {&quot;deptId&quot;: 1, &quot;age&quot;: 40, &quot;name&quot;: &quot;Hyukjin Kwon&quot;, &quot;gender&quot;: &quot;M&quot;, &quot;salary&quot;: 50},\n",
              "...     {&quot;deptId&quot;: 1, &quot;age&quot;: 50, &quot;name&quot;: &quot;Takuya Ueshin&quot;, &quot;gender&quot;: &quot;M&quot;, &quot;salary&quot;: 100},\n",
              "...     {&quot;deptId&quot;: 2, &quot;age&quot;: 60, &quot;name&quot;: &quot;Xinrong Meng&quot;, &quot;gender&quot;: &quot;F&quot;, &quot;salary&quot;: 150},\n",
              "...     {&quot;deptId&quot;: 3, &quot;age&quot;: 20, &quot;name&quot;: &quot;Haejoon Lee&quot;, &quot;gender&quot;: &quot;M&quot;, &quot;salary&quot;: 200}\n",
              "... ])\n",
              "\n",
              "Once created, it can be manipulated using the various domain-specific-language\n",
              "(DSL) functions defined in: :class:`DataFrame`, :class:`Column`.\n",
              "\n",
              "To select a column from the :class:`DataFrame`, use the apply method:\n",
              "\n",
              "&gt;&gt;&gt; age_col = people.age\n",
              "\n",
              "A more concrete example:\n",
              "\n",
              "&gt;&gt;&gt; # To create DataFrame using SparkSession\n",
              "... department = spark.createDataFrame([\n",
              "...     {&quot;id&quot;: 1, &quot;name&quot;: &quot;PySpark&quot;},\n",
              "...     {&quot;id&quot;: 2, &quot;name&quot;: &quot;ML&quot;},\n",
              "...     {&quot;id&quot;: 3, &quot;name&quot;: &quot;Spark SQL&quot;}\n",
              "... ])\n",
              "\n",
              "&gt;&gt;&gt; people.filter(people.age &gt; 30).join(\n",
              "...     department, people.deptId == department.id).groupBy(\n",
              "...     department.name, &quot;gender&quot;).agg({&quot;salary&quot;: &quot;avg&quot;, &quot;age&quot;: &quot;max&quot;}).show()\n",
              "+-------+------+-----------+--------+\n",
              "|   name|gender|avg(salary)|max(age)|\n",
              "+-------+------+-----------+--------+\n",
              "|     ML|     F|      150.0|      60|\n",
              "|PySpark|     M|       75.0|      50|\n",
              "+-------+------+-----------+--------+\n",
              "\n",
              "Notes\n",
              "-----\n",
              "A DataFrame should only be created as described above. It should not be directly\n",
              "created via using the constructor.</pre>\n",
              "      <script>\n",
              "      if (google.colab.kernel.accessAllowed && google.colab.files && google.colab.files.view) {\n",
              "        for (const element of document.querySelectorAll('.filepath')) {\n",
              "          element.style.display = 'block'\n",
              "          element.onclick = (event) => {\n",
              "            event.preventDefault();\n",
              "            event.stopPropagation();\n",
              "            google.colab.files.view(element.textContent, 80);\n",
              "          };\n",
              "        }\n",
              "      }\n",
              "      for (const element of document.querySelectorAll('.function-repr-contents')) {\n",
              "        element.onclick = (event) => {\n",
              "          event.preventDefault();\n",
              "          event.stopPropagation();\n",
              "          element.classList.toggle('function-repr-contents-collapsed');\n",
              "        };\n",
              "      }\n",
              "      </script>\n",
              "      </div>"
            ]
          },
          "metadata": {},
          "execution_count": 11
        }
      ]
    },
    {
      "cell_type": "code",
      "source": [
        "df.head(5)"
      ],
      "metadata": {
        "colab": {
          "base_uri": "https://localhost:8080/"
        },
        "id": "W4JmOtjK57PZ",
        "outputId": "d97f093f-4fe1-4b35-bc46-f486e8402ebb"
      },
      "execution_count": 12,
      "outputs": [
        {
          "output_type": "execute_result",
          "data": {
            "text/plain": [
              "[Row(Name='Krish', Age=31, Exp=10, salary=100),\n",
              " Row(Name='Sudhanshu', Age=30, Exp=5, salary=120),\n",
              " Row(Name='Sunny', Age=29, Exp=9, salary=70),\n",
              " Row(Name='jaya', Age=None, Exp=None, salary=50),\n",
              " Row(Name=None, Age=20, Exp=10, salary=38)]"
            ]
          },
          "metadata": {},
          "execution_count": 12
        }
      ]
    },
    {
      "cell_type": "code",
      "source": [
        "df.tail(1)"
      ],
      "metadata": {
        "colab": {
          "base_uri": "https://localhost:8080/"
        },
        "id": "-xx1sicB6Hsw",
        "outputId": "2908ed05-b8cb-4335-8f6f-507036aa074d"
      },
      "execution_count": 13,
      "outputs": [
        {
          "output_type": "execute_result",
          "data": {
            "text/plain": [
              "[Row(Name='jaga', Age=36, Exp=None, salary=None)]"
            ]
          },
          "metadata": {},
          "execution_count": 13
        }
      ]
    },
    {
      "cell_type": "code",
      "source": [
        "df.select([\"Name\",\"Exp\"]).show()"
      ],
      "metadata": {
        "colab": {
          "base_uri": "https://localhost:8080/"
        },
        "id": "8bXTv7Z-6Kk3",
        "outputId": "eb255e6f-4b2c-460b-e24d-cfda5ed2bf54"
      },
      "execution_count": 14,
      "outputs": [
        {
          "output_type": "stream",
          "name": "stdout",
          "text": [
            "+---------+----+\n",
            "|     Name| Exp|\n",
            "+---------+----+\n",
            "|    Krish|  10|\n",
            "|Sudhanshu|   5|\n",
            "|    Sunny|   9|\n",
            "|     jaya|NULL|\n",
            "|     NULL|  10|\n",
            "|     jaga|NULL|\n",
            "+---------+----+\n",
            "\n"
          ]
        }
      ]
    },
    {
      "cell_type": "code",
      "source": [
        "df['Name']"
      ],
      "metadata": {
        "colab": {
          "base_uri": "https://localhost:8080/"
        },
        "id": "GkNRGMJd6V9L",
        "outputId": "caabd8e2-cf9c-47fc-fea7-db7055c1024a"
      },
      "execution_count": 15,
      "outputs": [
        {
          "output_type": "execute_result",
          "data": {
            "text/plain": [
              "Column<'Name'>"
            ]
          },
          "metadata": {},
          "execution_count": 15
        }
      ]
    },
    {
      "cell_type": "code",
      "source": [
        "df.dtypes"
      ],
      "metadata": {
        "colab": {
          "base_uri": "https://localhost:8080/"
        },
        "id": "N_OUfuD77DrB",
        "outputId": "4904d085-dc9e-43af-e98e-40823052661b"
      },
      "execution_count": 16,
      "outputs": [
        {
          "output_type": "execute_result",
          "data": {
            "text/plain": [
              "[('Name', 'string'), ('Age', 'int'), ('Exp', 'int'), ('salary', 'int')]"
            ]
          },
          "metadata": {},
          "execution_count": 16
        }
      ]
    },
    {
      "cell_type": "code",
      "source": [
        "df.describe()"
      ],
      "metadata": {
        "colab": {
          "base_uri": "https://localhost:8080/"
        },
        "id": "wpaOeSiQ7GLt",
        "outputId": "a336e59f-5dc6-46b5-a074-6f4d7af5d18a"
      },
      "execution_count": 17,
      "outputs": [
        {
          "output_type": "execute_result",
          "data": {
            "text/plain": [
              "DataFrame[summary: string, Name: string, Age: string, Exp: string, salary: string]"
            ]
          },
          "metadata": {},
          "execution_count": 17
        }
      ]
    },
    {
      "cell_type": "code",
      "source": [
        "df.describe().show()"
      ],
      "metadata": {
        "colab": {
          "base_uri": "https://localhost:8080/"
        },
        "id": "YLCEbuwW7MV3",
        "outputId": "d7037ca7-336a-46e6-fead-9da2614a8640"
      },
      "execution_count": 18,
      "outputs": [
        {
          "output_type": "stream",
          "name": "stdout",
          "text": [
            "+-------+-----+-----------------+------------------+------------------+\n",
            "|summary| Name|              Age|               Exp|            salary|\n",
            "+-------+-----+-----------------+------------------+------------------+\n",
            "|  count|    5|                5|                 4|                 5|\n",
            "|   mean| NULL|             29.2|               8.5|              75.6|\n",
            "| stddev| NULL|5.805170109479997|2.3804761428476167|34.158454297582026|\n",
            "|    min|Krish|               20|                 5|                38|\n",
            "|    max| jaya|               36|                10|               120|\n",
            "+-------+-----+-----------------+------------------+------------------+\n",
            "\n"
          ]
        }
      ]
    },
    {
      "cell_type": "code",
      "source": [
        "## adding columns into dataframe\n",
        "df =df.withColumn(\"Exp after 2 years\",df['Exp']+2)"
      ],
      "metadata": {
        "id": "qXqcNw_47QfF"
      },
      "execution_count": 19,
      "outputs": []
    },
    {
      "cell_type": "code",
      "source": [
        "df.show()"
      ],
      "metadata": {
        "colab": {
          "base_uri": "https://localhost:8080/"
        },
        "id": "tt7NgpNGwlwj",
        "outputId": "de4d5601-e30f-4763-9f0d-54d4fb9bbbf6"
      },
      "execution_count": 20,
      "outputs": [
        {
          "output_type": "stream",
          "name": "stdout",
          "text": [
            "+---------+----+----+------+-----------------+\n",
            "|     Name| Age| Exp|salary|Exp after 2 years|\n",
            "+---------+----+----+------+-----------------+\n",
            "|    Krish|  31|  10|   100|               12|\n",
            "|Sudhanshu|  30|   5|   120|                7|\n",
            "|    Sunny|  29|   9|    70|               11|\n",
            "|     jaya|NULL|NULL|    50|             NULL|\n",
            "|     NULL|  20|  10|    38|               12|\n",
            "|     jaga|  36|NULL|  NULL|             NULL|\n",
            "+---------+----+----+------+-----------------+\n",
            "\n"
          ]
        }
      ]
    },
    {
      "cell_type": "code",
      "source": [
        "## dro columns into dataframe\n",
        "df = df.drop(\"Exp after 2 years\")"
      ],
      "metadata": {
        "id": "FjChttSRwp1z"
      },
      "execution_count": 21,
      "outputs": []
    },
    {
      "cell_type": "code",
      "source": [
        "df.show()"
      ],
      "metadata": {
        "colab": {
          "base_uri": "https://localhost:8080/"
        },
        "id": "oBriaULOxUtK",
        "outputId": "2cc047b1-2beb-405c-f592-d9d6ba853d9b"
      },
      "execution_count": 22,
      "outputs": [
        {
          "output_type": "stream",
          "name": "stdout",
          "text": [
            "+---------+----+----+------+\n",
            "|     Name| Age| Exp|salary|\n",
            "+---------+----+----+------+\n",
            "|    Krish|  31|  10|   100|\n",
            "|Sudhanshu|  30|   5|   120|\n",
            "|    Sunny|  29|   9|    70|\n",
            "|     jaya|NULL|NULL|    50|\n",
            "|     NULL|  20|  10|    38|\n",
            "|     jaga|  36|NULL|  NULL|\n",
            "+---------+----+----+------+\n",
            "\n"
          ]
        }
      ]
    },
    {
      "cell_type": "code",
      "source": [
        "##Rename column\n",
        "df =df.withColumnRenamed(\"Name\",\"New_Name\")"
      ],
      "metadata": {
        "id": "YP9QQTb7xWOn"
      },
      "execution_count": 23,
      "outputs": []
    },
    {
      "cell_type": "code",
      "source": [
        "df.show()"
      ],
      "metadata": {
        "colab": {
          "base_uri": "https://localhost:8080/"
        },
        "id": "68HRY03Jxylb",
        "outputId": "c381f291-b056-4a41-dbdb-e4f863abc19a"
      },
      "execution_count": 24,
      "outputs": [
        {
          "output_type": "stream",
          "name": "stdout",
          "text": [
            "+---------+----+----+------+\n",
            "| New_Name| Age| Exp|salary|\n",
            "+---------+----+----+------+\n",
            "|    Krish|  31|  10|   100|\n",
            "|Sudhanshu|  30|   5|   120|\n",
            "|    Sunny|  29|   9|    70|\n",
            "|     jaya|NULL|NULL|    50|\n",
            "|     NULL|  20|  10|    38|\n",
            "|     jaga|  36|NULL|  NULL|\n",
            "+---------+----+----+------+\n",
            "\n"
          ]
        }
      ]
    },
    {
      "cell_type": "markdown",
      "source": [
        "Pyspark Handling Missing Values\n",
        "Dropping Columns\n",
        "Dropping Rows\n",
        "Various Parameter In Dropping functionalities\n",
        "Handling Missing values by Mean, MEdian And Mode"
      ],
      "metadata": {
        "id": "q2W9702eyKsi"
      }
    },
    {
      "cell_type": "code",
      "source": [
        "df.drop(\"New_Name\").show()"
      ],
      "metadata": {
        "colab": {
          "base_uri": "https://localhost:8080/"
        },
        "id": "8K3htM_Ix0Df",
        "outputId": "dd6abe94-3dbb-4214-d5a1-ecc38a1bec9e"
      },
      "execution_count": 25,
      "outputs": [
        {
          "output_type": "stream",
          "name": "stdout",
          "text": [
            "+----+----+------+\n",
            "| Age| Exp|salary|\n",
            "+----+----+------+\n",
            "|  31|  10|   100|\n",
            "|  30|   5|   120|\n",
            "|  29|   9|    70|\n",
            "|NULL|NULL|    50|\n",
            "|  20|  10|    38|\n",
            "|  36|NULL|  NULL|\n",
            "+----+----+------+\n",
            "\n"
          ]
        }
      ]
    },
    {
      "cell_type": "code",
      "source": [
        "df.na.drop().show()"
      ],
      "metadata": {
        "colab": {
          "base_uri": "https://localhost:8080/"
        },
        "id": "h-oBWGQFAXhS",
        "outputId": "2f7f2e90-b0ba-460f-f12c-b63d8083bd8b"
      },
      "execution_count": 26,
      "outputs": [
        {
          "output_type": "stream",
          "name": "stdout",
          "text": [
            "+---------+---+---+------+\n",
            "| New_Name|Age|Exp|salary|\n",
            "+---------+---+---+------+\n",
            "|    Krish| 31| 10|   100|\n",
            "|Sudhanshu| 30|  5|   120|\n",
            "|    Sunny| 29|  9|    70|\n",
            "+---------+---+---+------+\n",
            "\n"
          ]
        }
      ]
    },
    {
      "cell_type": "code",
      "source": [
        "##how=any\n",
        "df.na.drop(how='any').show()"
      ],
      "metadata": {
        "colab": {
          "base_uri": "https://localhost:8080/"
        },
        "id": "fTsoPu89Af5C",
        "outputId": "5cbe4117-f49c-4073-88b6-a4e8e6ec5034"
      },
      "execution_count": 28,
      "outputs": [
        {
          "output_type": "stream",
          "name": "stdout",
          "text": [
            "+---------+---+---+------+\n",
            "| New_Name|Age|Exp|salary|\n",
            "+---------+---+---+------+\n",
            "|    Krish| 31| 10|   100|\n",
            "|Sudhanshu| 30|  5|   120|\n",
            "|    Sunny| 29|  9|    70|\n",
            "+---------+---+---+------+\n",
            "\n"
          ]
        }
      ]
    },
    {
      "cell_type": "code",
      "source": [
        "##how=all\n",
        "df.na.drop(how='all').show()"
      ],
      "metadata": {
        "colab": {
          "base_uri": "https://localhost:8080/"
        },
        "id": "9Ol-QxTqAzJ2",
        "outputId": "8ec54a27-1daf-43d2-c6a0-070830c2770f"
      },
      "execution_count": 29,
      "outputs": [
        {
          "output_type": "stream",
          "name": "stdout",
          "text": [
            "+---------+----+----+------+\n",
            "| New_Name| Age| Exp|salary|\n",
            "+---------+----+----+------+\n",
            "|    Krish|  31|  10|   100|\n",
            "|Sudhanshu|  30|   5|   120|\n",
            "|    Sunny|  29|   9|    70|\n",
            "|     jaya|NULL|NULL|    50|\n",
            "|     NULL|  20|  10|    38|\n",
            "|     jaga|  36|NULL|  NULL|\n",
            "+---------+----+----+------+\n",
            "\n"
          ]
        }
      ]
    },
    {
      "cell_type": "code",
      "source": [
        "##threshold\n",
        "df.na.drop(how='any',thresh=1).show()"
      ],
      "metadata": {
        "colab": {
          "base_uri": "https://localhost:8080/"
        },
        "id": "b3VDueI8A83E",
        "outputId": "ccb53ff7-aa81-49a4-d8f2-bc365ff7b0d2"
      },
      "execution_count": 34,
      "outputs": [
        {
          "output_type": "stream",
          "name": "stdout",
          "text": [
            "+---------+----+----+------+\n",
            "| New_Name| Age| Exp|salary|\n",
            "+---------+----+----+------+\n",
            "|    Krish|  31|  10|   100|\n",
            "|Sudhanshu|  30|   5|   120|\n",
            "|    Sunny|  29|   9|    70|\n",
            "|     jaya|NULL|NULL|    50|\n",
            "|     NULL|  20|  10|    38|\n",
            "|     jaga|  36|NULL|  NULL|\n",
            "+---------+----+----+------+\n",
            "\n"
          ]
        }
      ]
    },
    {
      "cell_type": "code",
      "source": [
        "##threshold\n",
        "df.na.drop(how='any',subset=['age']).show()"
      ],
      "metadata": {
        "colab": {
          "base_uri": "https://localhost:8080/"
        },
        "id": "0YebMJS5BKGY",
        "outputId": "1e86dc90-db43-4664-8726-51bf69c6e9ce"
      },
      "execution_count": 35,
      "outputs": [
        {
          "output_type": "stream",
          "name": "stdout",
          "text": [
            "+---------+---+----+------+\n",
            "| New_Name|Age| Exp|salary|\n",
            "+---------+---+----+------+\n",
            "|    Krish| 31|  10|   100|\n",
            "|Sudhanshu| 30|   5|   120|\n",
            "|    Sunny| 29|   9|    70|\n",
            "|     NULL| 20|  10|    38|\n",
            "|     jaga| 36|NULL|  NULL|\n",
            "+---------+---+----+------+\n",
            "\n"
          ]
        }
      ]
    },
    {
      "cell_type": "code",
      "source": [
        "df.na.fill(\"missing values\",['New_Name']).show()"
      ],
      "metadata": {
        "colab": {
          "base_uri": "https://localhost:8080/"
        },
        "id": "kFU-nrIhBhbk",
        "outputId": "e6862f44-7687-405c-dc4e-e8908dffe1ce"
      },
      "execution_count": 44,
      "outputs": [
        {
          "output_type": "stream",
          "name": "stdout",
          "text": [
            "+--------------+----+----+------+\n",
            "|      New_Name| Age| Exp|salary|\n",
            "+--------------+----+----+------+\n",
            "|         Krish|  31|  10|   100|\n",
            "|     Sudhanshu|  30|   5|   120|\n",
            "|         Sunny|  29|   9|    70|\n",
            "|          jaya|NULL|NULL|    50|\n",
            "|missing values|  20|  10|    38|\n",
            "|          jaga|  36|NULL|  NULL|\n",
            "+--------------+----+----+------+\n",
            "\n"
          ]
        }
      ]
    },
    {
      "cell_type": "code",
      "source": [
        "from pyspark.ml.feature import Imputer\n",
        "imputer = Imputer(inputCols=['Age',\"Exp\",\"salary\"],\n",
        "                  outputCols=[\"{}_imputed\".format(c) for c in ['Age','Exp','salary']]).setStrategy(\"mean\")"
      ],
      "metadata": {
        "id": "5690tliuBsXq"
      },
      "execution_count": 47,
      "outputs": []
    },
    {
      "cell_type": "code",
      "source": [
        "imputer.fit(df).transform(df).show()"
      ],
      "metadata": {
        "colab": {
          "base_uri": "https://localhost:8080/"
        },
        "id": "ktTh2y3tCxS0",
        "outputId": "bea18b72-8921-4c1a-d7c7-e8e518f02494"
      },
      "execution_count": 48,
      "outputs": [
        {
          "output_type": "stream",
          "name": "stdout",
          "text": [
            "+---------+----+----+------+-----------+-----------+--------------+\n",
            "| New_Name| Age| Exp|salary|Age_imputed|Exp_imputed|salary_imputed|\n",
            "+---------+----+----+------+-----------+-----------+--------------+\n",
            "|    Krish|  31|  10|   100|         31|         10|           100|\n",
            "|Sudhanshu|  30|   5|   120|         30|          5|           120|\n",
            "|    Sunny|  29|   9|    70|         29|          9|            70|\n",
            "|     jaya|NULL|NULL|    50|         29|          8|            50|\n",
            "|     NULL|  20|  10|    38|         20|         10|            38|\n",
            "|     jaga|  36|NULL|  NULL|         36|          8|            75|\n",
            "+---------+----+----+------+-----------+-----------+--------------+\n",
            "\n"
          ]
        }
      ]
    },
    {
      "cell_type": "code",
      "source": [
        "##filter operations\n",
        "df.filter(\"salary<50\").show()"
      ],
      "metadata": {
        "colab": {
          "base_uri": "https://localhost:8080/"
        },
        "id": "uSdSzpc8DFYe",
        "outputId": "936c2333-6849-4ffa-d8bd-3ab3bf5fbc24"
      },
      "execution_count": 49,
      "outputs": [
        {
          "output_type": "stream",
          "name": "stdout",
          "text": [
            "+--------+---+---+------+\n",
            "|New_Name|Age|Exp|salary|\n",
            "+--------+---+---+------+\n",
            "|    NULL| 20| 10|    38|\n",
            "+--------+---+---+------+\n",
            "\n"
          ]
        }
      ]
    },
    {
      "cell_type": "code",
      "source": [
        "df.filter(\"Salary<=50\").select(['New_Name','Age']).show()"
      ],
      "metadata": {
        "colab": {
          "base_uri": "https://localhost:8080/"
        },
        "id": "5F6ce2IADzCi",
        "outputId": "72d942c5-2577-4f04-8146-847ea383e463"
      },
      "execution_count": 50,
      "outputs": [
        {
          "output_type": "stream",
          "name": "stdout",
          "text": [
            "+--------+----+\n",
            "|New_Name| Age|\n",
            "+--------+----+\n",
            "|    jaya|NULL|\n",
            "|    NULL|  20|\n",
            "+--------+----+\n",
            "\n"
          ]
        }
      ]
    },
    {
      "cell_type": "code",
      "source": [
        "df.filter(df['Age']<25).show()"
      ],
      "metadata": {
        "colab": {
          "base_uri": "https://localhost:8080/"
        },
        "id": "SWppO77PD5rR",
        "outputId": "db4d135c-deec-4fd0-9154-b7d30bc0beea"
      },
      "execution_count": 51,
      "outputs": [
        {
          "output_type": "stream",
          "name": "stdout",
          "text": [
            "+--------+---+---+------+\n",
            "|New_Name|Age|Exp|salary|\n",
            "+--------+---+---+------+\n",
            "|    NULL| 20| 10|    38|\n",
            "+--------+---+---+------+\n",
            "\n"
          ]
        }
      ]
    },
    {
      "cell_type": "code",
      "source": [
        "## OR operator\n",
        "df.filter((df['salary']<=50) |\n",
        "                  (df['salary']>=10)).show()"
      ],
      "metadata": {
        "colab": {
          "base_uri": "https://localhost:8080/"
        },
        "id": "DsRcw4oDEFiY",
        "outputId": "ca0211d6-df7a-409f-ee45-a5e367878983"
      },
      "execution_count": 52,
      "outputs": [
        {
          "output_type": "stream",
          "name": "stdout",
          "text": [
            "+---------+----+----+------+\n",
            "| New_Name| Age| Exp|salary|\n",
            "+---------+----+----+------+\n",
            "|    Krish|  31|  10|   100|\n",
            "|Sudhanshu|  30|   5|   120|\n",
            "|    Sunny|  29|   9|    70|\n",
            "|     jaya|NULL|NULL|    50|\n",
            "|     NULL|  20|  10|    38|\n",
            "+---------+----+----+------+\n",
            "\n"
          ]
        }
      ]
    },
    {
      "cell_type": "code",
      "source": [
        "##not operator\n",
        "df.filter(~(df['salary']<=50)).show()"
      ],
      "metadata": {
        "colab": {
          "base_uri": "https://localhost:8080/"
        },
        "id": "Yv8RMvv3ERPg",
        "outputId": "b51f4f4d-1982-4e58-bc45-f6efb6331175"
      },
      "execution_count": 55,
      "outputs": [
        {
          "output_type": "stream",
          "name": "stdout",
          "text": [
            "+---------+---+---+------+\n",
            "| New_Name|Age|Exp|salary|\n",
            "+---------+---+---+------+\n",
            "|    Krish| 31| 10|   100|\n",
            "|Sudhanshu| 30|  5|   120|\n",
            "|    Sunny| 29|  9|    70|\n",
            "+---------+---+---+------+\n",
            "\n"
          ]
        }
      ]
    },
    {
      "cell_type": "code",
      "source": [
        "## Groupby\n",
        "### Grouped to find the maximum salary\n",
        "df.groupBy('New_Name').sum().show()"
      ],
      "metadata": {
        "colab": {
          "base_uri": "https://localhost:8080/"
        },
        "id": "Wz_qMZ4TEcvW",
        "outputId": "dbfbb3b0-1a4b-4203-f46c-3dee82cb25ba"
      },
      "execution_count": 57,
      "outputs": [
        {
          "output_type": "stream",
          "name": "stdout",
          "text": [
            "+---------+--------+--------+-----------+\n",
            "| New_Name|sum(Age)|sum(Exp)|sum(salary)|\n",
            "+---------+--------+--------+-----------+\n",
            "|     NULL|      20|      10|         38|\n",
            "|Sudhanshu|      30|       5|        120|\n",
            "|     jaya|    NULL|    NULL|         50|\n",
            "|    Sunny|      29|       9|         70|\n",
            "|    Krish|      31|      10|        100|\n",
            "|     jaga|      36|    NULL|       NULL|\n",
            "+---------+--------+--------+-----------+\n",
            "\n"
          ]
        }
      ]
    },
    {
      "cell_type": "code",
      "source": [
        "df3 = spark.read.option(\"header\",\"true\").csv(\"test3.csv\",inferSchema=True)"
      ],
      "metadata": {
        "id": "dyP0HCvxE0v6"
      },
      "execution_count": 58,
      "outputs": []
    },
    {
      "cell_type": "code",
      "source": [
        "df3.show()"
      ],
      "metadata": {
        "colab": {
          "base_uri": "https://localhost:8080/"
        },
        "id": "1-DJxiwEN1os",
        "outputId": "158476a5-5a38-4ea8-d127-5f0427b335ec"
      },
      "execution_count": 59,
      "outputs": [
        {
          "output_type": "stream",
          "name": "stdout",
          "text": [
            "+---------+------------+------+\n",
            "|     Name| Departments|salary|\n",
            "+---------+------------+------+\n",
            "|    Krish|Data Science| 10000|\n",
            "|    Krish|         IOT|  5000|\n",
            "|   Mahesh|    Big Data|  4000|\n",
            "|    Krish|    Big Data|  4000|\n",
            "|   Mahesh|Data Science|  3000|\n",
            "|Sudhanshu|Data Science| 20000|\n",
            "|Sudhanshu|         IOT| 10000|\n",
            "|Sudhanshu|    Big Data|  5000|\n",
            "|    Sunny|Data Science| 10000|\n",
            "|    Sunny|    Big Data|  2000|\n",
            "+---------+------------+------+\n",
            "\n"
          ]
        }
      ]
    },
    {
      "cell_type": "code",
      "source": [
        "df3.groupBy('Name').sum().show()"
      ],
      "metadata": {
        "colab": {
          "base_uri": "https://localhost:8080/"
        },
        "id": "rTRuJ3wYN2l2",
        "outputId": "fb4302ed-6f9b-48e6-a29e-0135721f9f6d"
      },
      "execution_count": 60,
      "outputs": [
        {
          "output_type": "stream",
          "name": "stdout",
          "text": [
            "+---------+-----------+\n",
            "|     Name|sum(salary)|\n",
            "+---------+-----------+\n",
            "|Sudhanshu|      35000|\n",
            "|    Sunny|      12000|\n",
            "|    Krish|      19000|\n",
            "|   Mahesh|       7000|\n",
            "+---------+-----------+\n",
            "\n"
          ]
        }
      ]
    },
    {
      "cell_type": "code",
      "source": [
        "df3.groupBy(\"Name\").avg().show()"
      ],
      "metadata": {
        "colab": {
          "base_uri": "https://localhost:8080/"
        },
        "id": "AgsusFElOFWO",
        "outputId": "5c6302f3-a1ee-48e9-e90e-8c1470055527"
      },
      "execution_count": 61,
      "outputs": [
        {
          "output_type": "stream",
          "name": "stdout",
          "text": [
            "+---------+------------------+\n",
            "|     Name|       avg(salary)|\n",
            "+---------+------------------+\n",
            "|Sudhanshu|11666.666666666666|\n",
            "|    Sunny|            6000.0|\n",
            "|    Krish| 6333.333333333333|\n",
            "|   Mahesh|            3500.0|\n",
            "+---------+------------------+\n",
            "\n"
          ]
        }
      ]
    },
    {
      "cell_type": "code",
      "source": [
        "### Groupby Departmernts  which gives maximum salary\n",
        "df3.groupBy('Departments').sum().show()"
      ],
      "metadata": {
        "colab": {
          "base_uri": "https://localhost:8080/"
        },
        "id": "DaQ1pXKuOON9",
        "outputId": "58535c61-0184-477b-d247-5a26d5a254dc"
      },
      "execution_count": 62,
      "outputs": [
        {
          "output_type": "stream",
          "name": "stdout",
          "text": [
            "+------------+-----------+\n",
            "| Departments|sum(salary)|\n",
            "+------------+-----------+\n",
            "|         IOT|      15000|\n",
            "|    Big Data|      15000|\n",
            "|Data Science|      43000|\n",
            "+------------+-----------+\n",
            "\n"
          ]
        }
      ]
    },
    {
      "cell_type": "code",
      "source": [
        "df3.groupBy(\"Departments\").mean().show()"
      ],
      "metadata": {
        "colab": {
          "base_uri": "https://localhost:8080/"
        },
        "id": "BfMe2nrkOVdP",
        "outputId": "0b580f57-5a44-4334-f7f8-f4969ade1c43"
      },
      "execution_count": 64,
      "outputs": [
        {
          "output_type": "stream",
          "name": "stdout",
          "text": [
            "+------------+-----------+\n",
            "| Departments|avg(salary)|\n",
            "+------------+-----------+\n",
            "|         IOT|     7500.0|\n",
            "|    Big Data|     3750.0|\n",
            "|Data Science|    10750.0|\n",
            "+------------+-----------+\n",
            "\n"
          ]
        }
      ]
    },
    {
      "cell_type": "code",
      "source": [
        "df3.groupBy('Departments').count().show()"
      ],
      "metadata": {
        "colab": {
          "base_uri": "https://localhost:8080/"
        },
        "id": "5nnvsQi_Ooz-",
        "outputId": "095dc623-857b-4aae-851b-e4fe0ff12926"
      },
      "execution_count": 65,
      "outputs": [
        {
          "output_type": "stream",
          "name": "stdout",
          "text": [
            "+------------+-----+\n",
            "| Departments|count|\n",
            "+------------+-----+\n",
            "|         IOT|    2|\n",
            "|    Big Data|    4|\n",
            "|Data Science|    4|\n",
            "+------------+-----+\n",
            "\n"
          ]
        }
      ]
    },
    {
      "cell_type": "code",
      "source": [
        "df3.agg({\"salary\":'sum'}).show()"
      ],
      "metadata": {
        "colab": {
          "base_uri": "https://localhost:8080/"
        },
        "id": "Z8CNFj0ZOwmD",
        "outputId": "f8f8dd61-00cf-4e6a-9c24-3b6122d7677c"
      },
      "execution_count": 66,
      "outputs": [
        {
          "output_type": "stream",
          "name": "stdout",
          "text": [
            "+-----------+\n",
            "|sum(salary)|\n",
            "+-----------+\n",
            "|      73000|\n",
            "+-----------+\n",
            "\n"
          ]
        }
      ]
    },
    {
      "cell_type": "code",
      "source": [
        "df1 = spark.read.option(\"header\",\"true\").csv(\"test1.csv\",inferSchema=True)"
      ],
      "metadata": {
        "id": "VxA0pPl8UZju"
      },
      "execution_count": 68,
      "outputs": []
    },
    {
      "cell_type": "code",
      "source": [
        "df1.show()"
      ],
      "metadata": {
        "colab": {
          "base_uri": "https://localhost:8080/"
        },
        "id": "jkLOGavwUn43",
        "outputId": "736ceb51-824b-47d0-8373-2c446a24cf35"
      },
      "execution_count": 69,
      "outputs": [
        {
          "output_type": "stream",
          "name": "stdout",
          "text": [
            "+---------+---+----------+------+\n",
            "|     Name|age|Experience|Salary|\n",
            "+---------+---+----------+------+\n",
            "|    Krish| 31|        10| 30000|\n",
            "|Sudhanshu| 30|         8| 25000|\n",
            "|    Sunny| 29|         4| 20000|\n",
            "|     Paul| 24|         3| 20000|\n",
            "|   Harsha| 21|         1| 15000|\n",
            "|  Shubham| 23|         2| 18000|\n",
            "+---------+---+----------+------+\n",
            "\n"
          ]
        }
      ]
    },
    {
      "cell_type": "code",
      "source": [
        "from pyspark.ml.feature import VectorAssembler\n",
        "featureassembler = VectorAssembler(inputCols=['age','Experience'],outputCol=\"Independent Features\")"
      ],
      "metadata": {
        "id": "q1J1wq-VO4rn"
      },
      "execution_count": 71,
      "outputs": []
    },
    {
      "cell_type": "code",
      "source": [
        "output=featureassembler.transform(df1)"
      ],
      "metadata": {
        "id": "n07JCbetU5vs"
      },
      "execution_count": 72,
      "outputs": []
    },
    {
      "cell_type": "code",
      "source": [
        "output.show()"
      ],
      "metadata": {
        "colab": {
          "base_uri": "https://localhost:8080/"
        },
        "id": "-6Ki7m8jVBAt",
        "outputId": "6affaec1-1e5c-432c-c40b-32ea53fffa97"
      },
      "execution_count": 73,
      "outputs": [
        {
          "output_type": "stream",
          "name": "stdout",
          "text": [
            "+---------+---+----------+------+--------------------+\n",
            "|     Name|age|Experience|Salary|Independent Features|\n",
            "+---------+---+----------+------+--------------------+\n",
            "|    Krish| 31|        10| 30000|         [31.0,10.0]|\n",
            "|Sudhanshu| 30|         8| 25000|          [30.0,8.0]|\n",
            "|    Sunny| 29|         4| 20000|          [29.0,4.0]|\n",
            "|     Paul| 24|         3| 20000|          [24.0,3.0]|\n",
            "|   Harsha| 21|         1| 15000|          [21.0,1.0]|\n",
            "|  Shubham| 23|         2| 18000|          [23.0,2.0]|\n",
            "+---------+---+----------+------+--------------------+\n",
            "\n"
          ]
        }
      ]
    },
    {
      "cell_type": "code",
      "source": [
        "finalized_data=output.select(\"Independent Features\",\"Salary\")"
      ],
      "metadata": {
        "id": "aKJlZZ21VDMi"
      },
      "execution_count": 74,
      "outputs": []
    },
    {
      "cell_type": "code",
      "source": [
        "\n",
        "finalized_data.show()"
      ],
      "metadata": {
        "colab": {
          "base_uri": "https://localhost:8080/"
        },
        "id": "iZceycJFVIg_",
        "outputId": "c4c7a8d5-5556-4fe5-e38c-071a02a87d49"
      },
      "execution_count": 75,
      "outputs": [
        {
          "output_type": "stream",
          "name": "stdout",
          "text": [
            "+--------------------+------+\n",
            "|Independent Features|Salary|\n",
            "+--------------------+------+\n",
            "|         [31.0,10.0]| 30000|\n",
            "|          [30.0,8.0]| 25000|\n",
            "|          [29.0,4.0]| 20000|\n",
            "|          [24.0,3.0]| 20000|\n",
            "|          [21.0,1.0]| 15000|\n",
            "|          [23.0,2.0]| 18000|\n",
            "+--------------------+------+\n",
            "\n"
          ]
        }
      ]
    },
    {
      "cell_type": "code",
      "source": [
        "from pyspark.ml.regression import LinearRegression"
      ],
      "metadata": {
        "id": "MjirP9Z9VKZo"
      },
      "execution_count": 76,
      "outputs": []
    },
    {
      "cell_type": "code",
      "source": [
        "##train test split\n",
        "train_data,test_data=finalized_data.randomSplit([0.75,0.25])\n",
        "regressor=LinearRegression(featuresCol='Independent Features', labelCol='Salary')\n",
        "regressor=regressor.fit(train_data)"
      ],
      "metadata": {
        "id": "840M6tWnVOHh"
      },
      "execution_count": 77,
      "outputs": []
    },
    {
      "cell_type": "code",
      "source": [
        "\n",
        "### Coefficients\n",
        "regressor.coefficients"
      ],
      "metadata": {
        "colab": {
          "base_uri": "https://localhost:8080/"
        },
        "id": "hgZQv3bBVS13",
        "outputId": "d5e92432-49f6-4ef6-b10e-c6ab2fe73479"
      },
      "execution_count": 78,
      "outputs": [
        {
          "output_type": "execute_result",
          "data": {
            "text/plain": [
              "DenseVector([-383.9733, 1711.1853])"
            ]
          },
          "metadata": {},
          "execution_count": 78
        }
      ]
    },
    {
      "cell_type": "code",
      "source": [
        "### Intercepts\n",
        "regressor.intercept"
      ],
      "metadata": {
        "colab": {
          "base_uri": "https://localhost:8080/"
        },
        "id": "qCnD6wGxVU2x",
        "outputId": "1d5a23e5-fb72-4839-ae68-742fe3971c05"
      },
      "execution_count": 79,
      "outputs": [
        {
          "output_type": "execute_result",
          "data": {
            "text/plain": [
              "23998.330550919745"
            ]
          },
          "metadata": {},
          "execution_count": 79
        }
      ]
    },
    {
      "cell_type": "code",
      "source": [
        "\n",
        "### Prediction\n",
        "pred_results=regressor.evaluate(test_data)"
      ],
      "metadata": {
        "id": "DMtH3GkdVWA6"
      },
      "execution_count": 80,
      "outputs": []
    },
    {
      "cell_type": "code",
      "source": [
        "pred_results.predictions.show()"
      ],
      "metadata": {
        "colab": {
          "base_uri": "https://localhost:8080/"
        },
        "id": "7m33Zk5JVXhI",
        "outputId": "3d4170da-d88f-4b7f-a25e-49367ac49ac0"
      },
      "execution_count": 81,
      "outputs": [
        {
          "output_type": "stream",
          "name": "stdout",
          "text": [
            "+--------------------+------+------------------+\n",
            "|Independent Features|Salary|        prediction|\n",
            "+--------------------+------+------------------+\n",
            "|          [21.0,1.0]| 15000|17646.076794657987|\n",
            "|          [23.0,2.0]| 18000|18589.315525876606|\n",
            "+--------------------+------+------------------+\n",
            "\n"
          ]
        }
      ]
    },
    {
      "cell_type": "code",
      "source": [
        "\n",
        "pred_results.meanAbsoluteError,pred_results.meanSquaredError\n"
      ],
      "metadata": {
        "colab": {
          "base_uri": "https://localhost:8080/"
        },
        "id": "jcg19ohnVaj-",
        "outputId": "8f4c8c05-dab4-4e13-d664-b1f18087d614"
      },
      "execution_count": 82,
      "outputs": [
        {
          "output_type": "execute_result",
          "data": {
            "text/plain": [
              "(1617.6961602672964, 3674507.596133353)"
            ]
          },
          "metadata": {},
          "execution_count": 82
        }
      ]
    },
    {
      "cell_type": "code",
      "source": [],
      "metadata": {
        "id": "oFRo6cgbVfg8"
      },
      "execution_count": null,
      "outputs": []
    }
  ]
}